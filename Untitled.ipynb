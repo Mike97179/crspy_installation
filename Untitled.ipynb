{
 "cells": [
  {
   "cell_type": "code",
   "execution_count": 1,
   "id": "2531dcc1-7777-48cd-aaeb-c79b5265982b",
   "metadata": {},
   "outputs": [],
   "source": [
    "import crspy\n",
    "import os\n",
    "\n",
    "crspy.initial(os.getcwd()) # This should only be run once as it will overwrite your config.ini file if you do it a second time. "
   ]
  },
  {
   "cell_type": "code",
   "execution_count": 2,
   "id": "792272fb-7d97-4d18-b75d-e03ae343cb8d",
   "metadata": {},
   "outputs": [
    {
     "data": {
      "text/plain": [
       "'/mnt/c/Users/micha/Desktop/main_folder'"
      ]
     },
     "execution_count": 2,
     "metadata": {},
     "output_type": "execute_result"
    }
   ],
   "source": [
    "os.getcwd()"
   ]
  },
  {
   "cell_type": "code",
   "execution_count": 1,
   "id": "5c6b6efd-5cb8-4a1d-aaa4-f656a1c31698",
   "metadata": {},
   "outputs": [
    {
     "data": {
      "text/plain": [
       "['config.ini']"
      ]
     },
     "execution_count": 1,
     "metadata": {},
     "output_type": "execute_result"
    }
   ],
   "source": [
    "import crspy\n",
    "import os\n",
    "\n",
    "from configparser import RawConfigParser\n",
    "nld = RawConfigParser()\n",
    "nld.read('config.ini')"
   ]
  },
  {
   "cell_type": "code",
   "execution_count": null,
   "id": "3f10354d-4e2f-4f45-a075-b21a3ca7d5b1",
   "metadata": {},
   "outputs": [
    {
     "name": "stdout",
     "output_type": "stream",
     "text": [
      "Downloading...\n"
     ]
    },
    {
     "name": "stderr",
     "output_type": "stream",
     "text": [
      "/home/mike97/.venvs/rojas/lib/python3.9/site-packages/urllib3/connectionpool.py:1099: InsecureRequestWarning: Unverified HTTPS request is being made to host 'cds.climate.copernicus.eu'. Adding certificate verification is strongly advised. See: https://urllib3.readthedocs.io/en/latest/advanced-usage.html#tls-warnings\n",
      "  warnings.warn(\n",
      "2024-01-19 12:37:14,260 INFO Welcome to the CDS\n",
      "2024-01-19 12:37:14,261 INFO Sending request to https://cds.climate.copernicus.eu/api/v2/resources/satellite-land-cover\n",
      "/home/mike97/.venvs/rojas/lib/python3.9/site-packages/urllib3/connectionpool.py:1099: InsecureRequestWarning: Unverified HTTPS request is being made to host 'cds.climate.copernicus.eu'. Adding certificate verification is strongly advised. See: https://urllib3.readthedocs.io/en/latest/advanced-usage.html#tls-warnings\n",
      "  warnings.warn(\n",
      "2024-01-19 12:37:14,771 INFO Request is completed\n",
      "2024-01-19 12:37:14,772 INFO Downloading https://download-0020.copernicus-climate.eu/cache-compute-0020/cache/data9/dataset-satellite-land-cover-d8c7c442-a045-40a9-bee5-c99d4d6ddf31.zip to /mnt/c/Users/micha/Desktop/main_folder/data/land_cover_data/land_cover.zip (2.2G)\n",
      "/home/mike97/.venvs/rojas/lib/python3.9/site-packages/urllib3/connectionpool.py:1099: InsecureRequestWarning: Unverified HTTPS request is being made to host 'download-0020.copernicus-climate.eu'. Adding certificate verification is strongly advised. See: https://urllib3.readthedocs.io/en/latest/advanced-usage.html#tls-warnings\n",
      "  warnings.warn(\n",
      " 37%|███████████████████████▌                                       | 829M/2.17G [06:58<13:12, 1.84MB/s]"
     ]
    }
   ],
   "source": [
    "# UNCOMMENT BELOW IF YOU WISH TO RUN THIS STEP - this requires preparing your computer for the CDS database\n",
    "crspy.dl_land_cover() # about 2GB\n",
    "crspy.dl_agb() # about 25GB"
   ]
  }
 ],
 "metadata": {
  "kernelspec": {
   "display_name": "Python 3 (ipykernel)",
   "language": "python",
   "name": "python3"
  },
  "language_info": {
   "codemirror_mode": {
    "name": "ipython",
    "version": 3
   },
   "file_extension": ".py",
   "mimetype": "text/x-python",
   "name": "python",
   "nbconvert_exporter": "python",
   "pygments_lexer": "ipython3",
   "version": "3.9.18"
  }
 },
 "nbformat": 4,
 "nbformat_minor": 5
}
